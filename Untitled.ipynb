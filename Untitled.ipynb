{
 "cells": [
  {
   "cell_type": "code",
   "execution_count": 1,
   "metadata": {
    "collapsed": true
   },
   "outputs": [],
   "source": [
    "import glob\n",
    "import os\n",
    "import librosa\n",
    "import numpy as np\n",
    "import pandas as pd\n",
    "from scipy.stats import kurtosis, skew"
   ]
  },
  {
   "cell_type": "code",
   "execution_count": 2,
   "metadata": {
    "collapsed": true
   },
   "outputs": [],
   "source": [
    "featureVectorLength = 140"
   ]
  },
  {
   "cell_type": "code",
   "execution_count": 3,
   "metadata": {
    "collapsed": true
   },
   "outputs": [],
   "source": [
    "def extract_features_from_file(file_name):\n",
    "    raw_sound, sample_rate = librosa.load(file_name)\n",
    "\n",
    "    # one row per extracted coefficient, one column per frame\n",
    "    mfccs = librosa.feature.mfcc(y=raw_sound, sr=sample_rate, n_mfcc=20)\n",
    "\n",
    "    mfccs_min = np.min(mfccs, axis=1)  # row-wise summaries\n",
    "    mfccs_max = np.max(mfccs, axis=1)\n",
    "    mfccs_median = np.median(mfccs, axis=1)\n",
    "    mfccs_mean = np.mean(mfccs, axis=1)\n",
    "    mfccs_variance = np.var(mfccs, axis=1)\n",
    "    mfccs_skeweness = skew(mfccs, axis=1)\n",
    "    mfccs_kurtosis = kurtosis(mfccs, axis=1)\n",
    "\n",
    "    return mfccs_min, mfccs_max, mfccs_median, mfccs_mean, mfccs_variance, mfccs_skeweness, mfccs_kurtosis"
   ]
  },
  {
   "cell_type": "code",
   "execution_count": 4,
   "metadata": {
    "collapsed": true
   },
   "outputs": [],
   "source": [
    "def extract_features_from_directories(parent_dir, sub_dirs, file_ext=\"*.wav\"):\n",
    "    feature_matrix, labels = np.empty((0, featureVectorLength)), np.empty(0)\n",
    "\n",
    "    for label, sub_dir in enumerate(sub_dirs):\n",
    "        for fn in glob.glob(os.path.join(parent_dir, sub_dir, file_ext)):\n",
    "            try:\n",
    "                mfccs_min, mfccs_max, mfccs_median, mfccs_mean, mfccs_variance, mfccs_skeweness, mfccs_kurtosis = extract_features_from_file(fn)\n",
    "                print(\"Finished processing file: \", fn)\n",
    "            except Exception as e:\n",
    "                print(\"Error while processing file: \", fn)\n",
    "                continue\n",
    "\n",
    "            # concatenate extracted features\n",
    "            new_feature_vector = np.hstack([mfccs_min, mfccs_max, mfccs_median, mfccs_mean, mfccs_variance, mfccs_skeweness, mfccs_kurtosis])\n",
    "\n",
    "            # add current feature vector as last row in feature matrix\n",
    "            feature_matrix = np.vstack([feature_matrix, new_feature_vector])\n",
    "\n",
    "            # extracts label from the file name. Change '\\\\' to  '/' on Unix systems\n",
    "            labels = np.append(labels, fn.split('\\\\')[3].split('-')[1])\n",
    "\n",
    "    return np.array(feature_matrix), np.array(labels, dtype=np.int)"
   ]
  },
  {
   "cell_type": "code",
   "execution_count": 5,
   "metadata": {
    "collapsed": true
   },
   "outputs": [],
   "source": [
    "def extract_features(dirs):\n",
    "    parent_dir = 'UrbanSound8k\\\\audio'\n",
    "    os.mkdir('Features')\n",
    "    for d in dirs:\n",
    "    \n",
    "        features, labels = extract_features_from_directories(parent_dir,[d])\n",
    "        \n",
    "        features_df = pd.DataFrame(features, columns=list(range(1, featureVectorLength+1)))\n",
    "        labels = pd.Series(labels.tolist())\n",
    "        \n",
    "        features_df.to_pickle('Features\\\\' + d + '_features.pkl')\n",
    "        labels.to_pickle('Features\\\\' + d + '_labels.pkl')\n",
    "        "
   ]
  },
  {
   "cell_type": "code",
   "execution_count": null,
   "metadata": {
    "collapsed": true
   },
   "outputs": [],
   "source": [
    "dirs =  [\"fold1\", \"fold2\", \"fold3\", \"fold4\", \"fold5\", \"fold6\", \"fold7\", \"fold8\", \"fold9\", \"fold10\"]\n",
    "extract_features(dirs)"
   ]
  },
  {
   "cell_type": "code",
   "execution_count": null,
   "metadata": {
    "collapsed": true
   },
   "outputs": [],
   "source": [
    "def mean_normalize(featureMatrix):\n",
    "    mean = np.mean(featureMatrix, axis=0)  # compute mean of each column (feature)\n",
    "    std = np.std(featureMatrix, axis=0, ddof=1)  # compute sample std of each column (feature)\n",
    "\n",
    "    featureMatrix -= mean  # subtract each column's mean from every value in the corresponding column\n",
    "    featureMatrix /= std  # divide values in each column with the corresponding sample std for that column\n",
    "\n",
    "    return featureMatrix"
   ]
  },
  {
   "cell_type": "code",
   "execution_count": null,
   "metadata": {
    "collapsed": true
   },
   "outputs": [],
   "source": [
    "#Loading the features\n",
    "features = {}\n",
    "labels = {}\n",
    "\n",
    "for d in dirs:\n",
    "    features[d] = mean_normalize(pd.read_pickle('Features\\\\' + d + '_features.pkl'))\n",
    "    labels[d] = pd.read_pickle('Features\\\\' + d + '_labels.pkl')"
   ]
  },
  {
   "cell_type": "code",
   "execution_count": null,
   "metadata": {
    "collapsed": true
   },
   "outputs": [],
   "source": [
    "sound_data = [features[i] for i in dirs]\n",
    "sound_labels = [labels[i] for i in dirs]\n",
    "\n",
    "sound_data = pd.concat(sound_data, ignore_index=True)\n",
    "sound_labels = pd.concat(sound_labels, ignore_index=True)"
   ]
  },
  {
   "cell_type": "code",
   "execution_count": null,
   "metadata": {
    "collapsed": true
   },
   "outputs": [],
   "source": [
    "from sklearn.model_selection import train_test_split, cross_val_score, ShuffleSplit, cross_val_predict\n",
    "from sklearn import svm\n",
    "import warnings\n",
    "warnings.filterwarnings('ignore')"
   ]
  },
  {
   "cell_type": "code",
   "execution_count": null,
   "metadata": {
    "collapsed": true
   },
   "outputs": [],
   "source": [
    "X_train, X_test, Y_train, Y_test = train_test_split(sound_data, sound_labels.values, test_size=0.3, random_state=0)\n",
    "clf = svm.SVC(C = 1, kernel = 'rbf' , gamma = 'auto')\n",
    "clf.fit(X_train, Y_train)"
   ]
  },
  {
   "cell_type": "code",
   "execution_count": null,
   "metadata": {
    "collapsed": true
   },
   "outputs": [],
   "source": [
    "#cv = ShuffleSplit(n_splits=5, test_size=0.3, random_state=0)\n",
    "#clf1 = svm.SVC(C = 1, kernel = 'rbf' , gamma = 'auto')\n",
    "#scores = cross_val_score(clf1, sound_data, sound_labels.values, cv = 10)\n",
    "#scores.mean()"
   ]
  },
  {
   "cell_type": "code",
   "execution_count": null,
   "metadata": {
    "collapsed": true
   },
   "outputs": [],
   "source": [
    "Y_pred = cross_val_predict(clf1 , sound_data, sound_labels.values, cv = 10)"
   ]
  },
  {
   "cell_type": "code",
   "execution_count": null,
   "metadata": {
    "collapsed": true
   },
   "outputs": [],
   "source": [
    "print(\"Accuracy : \" , accuracy(sound_labels.values , Y_pred))"
   ]
  }
 ],
 "metadata": {
  "kernelspec": {
   "display_name": "Python 3",
   "language": "python",
   "name": "python3"
  },
  "language_info": {
   "codemirror_mode": {
    "name": "ipython",
    "version": 3
   },
   "file_extension": ".py",
   "mimetype": "text/x-python",
   "name": "python",
   "nbconvert_exporter": "python",
   "pygments_lexer": "ipython3",
   "version": "3.5.3"
  }
 },
 "nbformat": 4,
 "nbformat_minor": 2
}
